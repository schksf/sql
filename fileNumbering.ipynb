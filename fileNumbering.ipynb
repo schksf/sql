{
 "cells": [
  {
   "cell_type": "code",
   "execution_count": 1,
   "metadata": {
    "collapsed": false
   },
   "outputs": [
    {
     "name": "stdout",
     "output_type": "stream",
     "text": [
      "98\n"
     ]
    }
   ],
   "source": [
    "'''\n",
    "  Instructions:\n",
    "   #1.  this cell, specify the right path\n",
    "   #2.  next cell, pick action (1 or 2) \n",
    "'''\n",
    "import os\n",
    "import codecs\n",
    "# encoding: chinese\n",
    "import sys\n",
    "\n",
    "def isInt(s):\n",
    "    try:\n",
    "        int(s)\n",
    "        return True\n",
    "    except:\n",
    "        return False\n",
    "    \n",
    "#os.getcwd()\n",
    "path = '/home/ifihadfins/Downloads/改革都有红利吗'\n",
    "os.chdir(path.decode('utf8'))\n",
    "os.stat(u'.')\n",
    "fn = os.listdir(u'.')\n",
    "print(len(fn))\n",
    "fileStat = []\n",
    "for i in range(len(fn)):\n",
    "    fileStat.append((i, os.stat(fn[i])) )\n",
    "sortedByCreate = sorted(fileStat, key=lambda x: x[1].st_mtime, reverse=False)\n"
   ]
  },
  {
   "cell_type": "code",
   "execution_count": 2,
   "metadata": {
    "collapsed": false
   },
   "outputs": [
    {
     "data": {
      "text/plain": [
       "[u'031\\u884c\\u8d3f\\u57fa\\u91d1\\uff1a\\u8d2a\\u8150\\u8d70\\u5411\\u8d44\\u672c\\u5316\\uff083\\uff09.mp3',\n",
       " u'017\\u63a5\\u73ed\\u4eba\\uff1a\\u6697\\u7bb1\\u91cc\\u7684\\u7687\\u51a0\\uff082\\uff09.mp3',\n",
       " u'013\\u4e09\\u5927\\u6cd5\\u5b9d\\uff1a\\u9a6c\\u80cc\\u653f\\u6743\\u7684\\u6e29\\u60c5\\u8f6c\\u8eab\\uff082\\uff09.mp3',\n",
       " u'084\\u6c11\\u53d8\\u4e4b\\u53d8\\uff1a\\u8c01\\u6765\\u505a\\u6700\\u540e\\u7684\\u57cb\\u5355\\u4eba\\uff084\\uff09\\u3010\\u5b8c\\u3011.mp3',\n",
       " u'051\\u5e1d\\u56fd\\u51fa\\u8f68\\uff1a\\u94c1\\u8def\\u603b\\u516c\\u53f8\\u4e4b\\u8def\\uff084\\uff09\\u3010\\u5b8c\\u3011.mp3',\n",
       " u'003\\u5f00\\u56fd63\\u5e74\\uff1a\\u5927\\u5386\\u53f2\\u7684\\u5207\\u7247\\uff0802\\uff09.mp3',\n",
       " u'093\\u6fc0\\u8fdb\\u7684\\u60ac\\u5d16\\uff1a\\u901a\\u5f80\\u6b7b\\u4ea1\\u7684\\u5feb\\u8f66\\u9053\\uff083\\uff09.mp3',\n",
       " u'014\\u4e09\\u5927\\u6cd5\\u5b9d\\uff1a\\u9a6c\\u80cc\\u653f\\u6743\\u7684\\u6e29\\u60c5\\u8f6c\\u8eab\\uff083\\uff09.mp3',\n",
       " u'015\\u4e09\\u5927\\u6cd5\\u5b9d\\uff1a\\u9a6c\\u80cc\\u653f\\u6743\\u7684\\u6e29\\u60c5\\u8f6c\\u8eab\\uff084\\uff09\\u3010\\u5b8c\\u3011.mp3',\n",
       " u'063\\u521a\\u6bc5\\u6574\\u987f\\uff1a\\u5931\\u63a7\\u7684\\u5927\\u6e05\\u8d22\\u653f\\uff084\\uff09.mp3',\n",
       " u'057\\u5f20\\u4e4b\\u6d1e\\uff1a\\u8d70\\u5411\\u519b\\u673a\\u7684\\u60c6\\u6005\\uff082\\uff09.mp3',\n",
       " u'029\\u884c\\u8d3f\\u57fa\\u91d1\\uff1a\\u8d2a\\u8150\\u8d70\\u5411\\u8d44\\u672c\\u5316\\uff081\\uff09.mp3',\n",
       " u'094\\u6fc0\\u8fdb\\u7684\\u60ac\\u5d16\\uff1a\\u901a\\u5f80\\u6b7b\\u4ea1\\u7684\\u5feb\\u8f66\\u9053\\uff084\\uff09\\u3010\\u5b8c\\u3011.mp3',\n",
       " u'040\\u7b2c\\u56db\\u4ee3\\u96be\\u9898\\uff1a\\u4e7e\\u9686\\u906d\\u9047\\u5927\\u9769\\u547d\\uff083\\uff09.mp3',\n",
       " u'043\\u8d44\\u672c\\u76f2\\u6d41\\uff1a\\u4e0a\\u6d77\\u5730\\u4ea7\\u9996\\u6b21\\u5927\\u5d29\\u76d8\\uff081\\uff09.mp3',\n",
       " u'012\\u4e09\\u5927\\u6cd5\\u5b9d\\uff1a\\u9a6c\\u80cc\\u653f\\u6743\\u7684\\u6e29\\u60c5\\u8f6c\\u8eab\\uff081\\uff09.mp3',\n",
       " u'068\\u5e9a\\u5b50\\u5e74\\u5371\\u673a\\uff1a\\u7089\\u706b\\u4e0a\\u7684\\u7fa4\\u96c4\\u535a\\u5f08\\uff083\\uff09.mp3',\n",
       " u'091\\u6fc0\\u8fdb\\u7684\\u60ac\\u5d16\\uff1a\\u901a\\u5f80\\u6b7b\\u4ea1\\u7684\\u5feb\\u8f66\\u9053\\uff081\\uff09.mp3',\n",
       " u'090\\u6295\\u673a\\u98ce\\u66b4\\uff1a\\u673a\\u4f1a\\u4e3b\\u4e49\\u5927\\u9769\\u547d\\uff083\\uff09\\u3010\\u5b8c\\u3011.mp3',\n",
       " u'011\\u5f00\\u56fd63\\u5e74\\uff1a\\u5927\\u5386\\u53f2\\u7684\\u5207\\u7247\\uff0810\\uff09\\u3010\\u5b8c\\u3011.mp3',\n",
       " u'054\\u620a\\u620c\\u53d8\\u6cd5\\uff1a\\u8870\\u8001\\u5e1d\\u56fd\\u7684\\u6fc0\\u60c5\\u4e00\\u8df3\\uff083\\uff09.mp3',\n",
       " u'032\\u884c\\u8d3f\\u57fa\\u91d1\\uff1a\\u8d2a\\u8150\\u8d70\\u5411\\u8d44\\u672c\\u5316\\uff084\\uff09.mp3',\n",
       " u'006\\u5f00\\u56fd63\\u5e74\\uff1a\\u5927\\u5386\\u53f2\\u7684\\u5207\\u7247\\uff0805\\uff09.mp3',\n",
       " u'038\\u7b2c\\u56db\\u4ee3\\u96be\\u9898\\uff1a\\u4e7e\\u9686\\u906d\\u9047\\u5927\\u9769\\u547d\\uff081\\uff09.mp3',\n",
       " u'042\\u7b2c\\u56db\\u4ee3\\u96be\\u9898\\uff1a\\u4e7e\\u9686\\u906d\\u9047\\u5927\\u9769\\u547d\\uff085\\uff09\\u3010\\u5b8c\\u3011.mp3',\n",
       " u'082\\u6c11\\u53d8\\u4e4b\\u53d8\\uff1a\\u8c01\\u6765\\u505a\\u6700\\u540e\\u7684\\u57cb\\u5355\\u4eba\\uff082\\uff09.mp3',\n",
       " u'078\\u4e01\\u672a\\u653f\\u6f6e\\uff1a\\u65e0\\u5904\\u4e0d\\u5728\\u7684\\u6743\\u4e89\\uff084\\uff09.mp3',\n",
       " u'092\\u6fc0\\u8fdb\\u7684\\u60ac\\u5d16\\uff1a\\u901a\\u5f80\\u6b7b\\u4ea1\\u7684\\u5feb\\u8f66\\u9053\\uff082\\uff09.mp3',\n",
       " u'059\\u5f20\\u4e4b\\u6d1e\\uff1a\\u8d70\\u5411\\u519b\\u673a\\u7684\\u60c6\\u6005\\uff084\\uff09\\u3010\\u5b8c\\u3011.mp3',\n",
       " u'016\\u63a5\\u73ed\\u4eba\\uff1a\\u6697\\u7bb1\\u91cc\\u7684\\u7687\\u51a0\\uff081\\uff09.mp3',\n",
       " u'021\\u519b\\u673a\\u5904\\uff1a\\u6e05\\u4ee3\\u201c\\u56fd\\u5b89\\u59d4\\u201d\\u7684\\u5236\\u5ea6\\u521b\\u65b0\\uff083\\uff09.mp3',\n",
       " u'001\\u6539\\u9769\\u90fd\\u6709\\u7ea2\\u5229\\u5417\\uff1a\\u81ea\\u5e8f.mp3',\n",
       " u'018\\u63a5\\u73ed\\u4eba\\uff1a\\u6697\\u7bb1\\u91cc\\u7684\\u7687\\u51a0\\uff083\\uff09\\u3010\\u5b8c\\u3011.mp3',\n",
       " u'064\\u521a\\u6bc5\\u6574\\u987f\\uff1a\\u5931\\u63a7\\u7684\\u5927\\u6e05\\u8d22\\u653f\\uff085\\uff09.mp3',\n",
       " u'039\\u7b2c\\u56db\\u4ee3\\u96be\\u9898\\uff1a\\u4e7e\\u9686\\u906d\\u9047\\u5927\\u9769\\u547d\\uff082\\uff09.mp3',\n",
       " u'033\\u884c\\u8d3f\\u57fa\\u91d1\\uff1a\\u8d2a\\u8150\\u8d70\\u5411\\u8d44\\u672c\\u5316\\uff085\\uff09\\u3010\\u5b8c\\u3011.mp3',\n",
       " u'074\\u8d27\\u5e01\\u4e4b\\u4e71\\uff1a\\u94f8\\u5e01\\u673a\\u4e0a\\u7684\\u5baa\\u653f\\uff084\\uff09\\u3010\\u5b8c\\u3011.mp3',\n",
       " u'062\\u521a\\u6bc5\\u6574\\u987f\\uff1a\\u5931\\u63a7\\u7684\\u5927\\u6e05\\u8d22\\u653f\\uff083\\uff09.mp3',\n",
       " u'086\\u6d41\\u4ea1\\u751f\\u610f\\uff1a\\u5eb7\\u6709\\u4e3a\\u7684\\u515a\\u4ea7\\uff082\\uff09.mp3',\n",
       " u'026\\u5f39\\u6027\\u53cd\\u8150\\uff1a\\u4e00\\u4f4d\\u8d22\\u52a1\\u201c\\u526f\\u7701\\u957f\\u201d\\u7684\\u6b7b\\u5211\\uff083\\uff09.mp3',\n",
       " u'080\\u4e01\\u672a\\u653f\\u6f6e\\uff1a\\u65e0\\u5904\\u4e0d\\u5728\\u7684\\u6743\\u4e89\\uff086\\uff09\\u3010\\u5b8c\\u3011.mp3',\n",
       " u'097\\u6539\\u9769\\u90fd\\u6709\\u7ea2\\u5229\\u5417\\uff1a\\u540e\\u8bb0\\uff083\\uff09.mp3',\n",
       " u'037\\u5723\\u8c15\\u5ba3\\u8bb2\\uff1a\\u5927\\u6e05\\u7684\\u201c\\u7cbe\\u795e\\u6587\\u660e\\u5efa\\u8bbe\\u201d\\uff084\\uff09\\u3010\\u5b8c\\u3011.mp3',\n",
       " u'046\\u8d44\\u672c\\u76f2\\u6d41\\uff1a\\u4e0a\\u6d77\\u5730\\u4ea7\\u9996\\u6b21\\u5927\\u5d29\\u76d8\\uff084\\uff09.mp3',\n",
       " u'083\\u6c11\\u53d8\\u4e4b\\u53d8\\uff1a\\u8c01\\u6765\\u505a\\u6700\\u540e\\u7684\\u57cb\\u5355\\u4eba\\uff083\\uff09.mp3',\n",
       " u'050\\u5e1d\\u56fd\\u51fa\\u8f68\\uff1a\\u94c1\\u8def\\u603b\\u516c\\u53f8\\u4e4b\\u8def\\uff083\\uff09.mp3',\n",
       " u'036\\u5723\\u8c15\\u5ba3\\u8bb2\\uff1a\\u5927\\u6e05\\u7684\\u201c\\u7cbe\\u795e\\u6587\\u660e\\u5efa\\u8bbe\\u201d\\uff083\\uff09.mp3',\n",
       " u'052\\u620a\\u620c\\u53d8\\u6cd5\\uff1a\\u8870\\u8001\\u5e1d\\u56fd\\u7684\\u6fc0\\u60c5\\u4e00\\u8df3\\uff081\\uff09.mp3',\n",
       " u'055\\u620a\\u620c\\u53d8\\u6cd5\\uff1a\\u8870\\u8001\\u5e1d\\u56fd\\u7684\\u6fc0\\u60c5\\u4e00\\u8df3\\uff084\\uff09\\u3010\\u5b8c\\u3011.mp3',\n",
       " u'048\\u5e1d\\u56fd\\u51fa\\u8f68\\uff1a\\u94c1\\u8def\\u603b\\u516c\\u53f8\\u4e4b\\u8def\\uff081\\uff09.mp3',\n",
       " u'004\\u5f00\\u56fd63\\u5e74\\uff1a\\u5927\\u5386\\u53f2\\u7684\\u5207\\u7247\\uff0803\\uff09.mp3',\n",
       " u'072\\u8d27\\u5e01\\u4e4b\\u4e71\\uff1a\\u94f8\\u5e01\\u673a\\u4e0a\\u7684\\u5baa\\u653f\\uff082\\uff09.mp3',\n",
       " u'098\\u6539\\u9769\\u90fd\\u6709\\u7ea2\\u5229\\u5417\\uff1a\\u540e\\u8bb0\\uff084\\uff09\\u3010\\u5b8c\\u3011.mp3',\n",
       " u'076\\u4e01\\u672a\\u653f\\u6f6e\\uff1a\\u65e0\\u5904\\u4e0d\\u5728\\u7684\\u6743\\u4e89\\uff082\\uff09.mp3',\n",
       " u'069\\u5e9a\\u5b50\\u5e74\\u5371\\u673a\\uff1a\\u7089\\u706b\\u4e0a\\u7684\\u7fa4\\u96c4\\u535a\\u5f08\\uff084\\uff09.mp3',\n",
       " u'066\\u5e9a\\u5b50\\u5e74\\u5371\\u673a\\uff1a\\u7089\\u706b\\u4e0a\\u7684\\u7fa4\\u96c4\\u535a\\u5f08\\uff081\\uff09.mp3',\n",
       " u'023\\u519b\\u673a\\u5904\\uff1a\\u6e05\\u4ee3\\u201c\\u56fd\\u5b89\\u59d4\\u201d\\u7684\\u5236\\u5ea6\\u521b\\u65b0\\uff085\\uff09\\u3010\\u5b8c\\u3011.mp3',\n",
       " u'027\\u5f39\\u6027\\u53cd\\u8150\\uff1a\\u4e00\\u4f4d\\u8d22\\u52a1\\u201c\\u526f\\u7701\\u957f\\u201d\\u7684\\u6b7b\\u5211\\uff084\\uff09.mp3',\n",
       " u'044\\u8d44\\u672c\\u76f2\\u6d41\\uff1a\\u4e0a\\u6d77\\u5730\\u4ea7\\u9996\\u6b21\\u5927\\u5d29\\u76d8\\uff082\\uff09.mp3',\n",
       " u'025\\u5f39\\u6027\\u53cd\\u8150\\uff1a\\u4e00\\u4f4d\\u8d22\\u52a1\\u201c\\u526f\\u7701\\u957f\\u201d\\u7684\\u6b7b\\u5211\\uff082\\uff09.mp3',\n",
       " u'002\\u5f00\\u56fd63\\u5e74\\uff1a\\u5927\\u5386\\u53f2\\u7684\\u5207\\u7247\\uff0801\\uff09.mp3',\n",
       " u'096\\u6539\\u9769\\u90fd\\u6709\\u7ea2\\u5229\\u5417\\uff1a\\u540e\\u8bb0\\uff082\\uff09.mp3',\n",
       " u'085\\u6d41\\u4ea1\\u751f\\u610f\\uff1a\\u5eb7\\u6709\\u4e3a\\u7684\\u515a\\u4ea7\\uff081\\uff09.mp3',\n",
       " u'045\\u8d44\\u672c\\u76f2\\u6d41\\uff1a\\u4e0a\\u6d77\\u5730\\u4ea7\\u9996\\u6b21\\u5927\\u5d29\\u76d8\\uff083\\uff09.mp3',\n",
       " u'020\\u519b\\u673a\\u5904\\uff1a\\u6e05\\u4ee3\\u201c\\u56fd\\u5b89\\u59d4\\u201d\\u7684\\u5236\\u5ea6\\u521b\\u65b0\\uff082\\uff09.mp3',\n",
       " u'041\\u7b2c\\u56db\\u4ee3\\u96be\\u9898\\uff1a\\u4e7e\\u9686\\u906d\\u9047\\u5927\\u9769\\u547d\\uff084\\uff09.mp3',\n",
       " u'089\\u6295\\u673a\\u98ce\\u66b4\\uff1a\\u673a\\u4f1a\\u4e3b\\u4e49\\u5927\\u9769\\u547d\\uff082\\uff09.mp3',\n",
       " u'035\\u5723\\u8c15\\u5ba3\\u8bb2\\uff1a\\u5927\\u6e05\\u7684\\u201c\\u7cbe\\u795e\\u6587\\u660e\\u5efa\\u8bbe\\u201d\\uff082\\uff09.mp3',\n",
       " u'022\\u519b\\u673a\\u5904\\uff1a\\u6e05\\u4ee3\\u201c\\u56fd\\u5b89\\u59d4\\u201d\\u7684\\u5236\\u5ea6\\u521b\\u65b0\\uff084\\uff09.mp3',\n",
       " u'010\\u5f00\\u56fd63\\u5e74\\uff1a\\u5927\\u5386\\u53f2\\u7684\\u5207\\u7247\\uff0809\\uff09.mp3',\n",
       " u'060\\u521a\\u6bc5\\u6574\\u987f\\uff1a\\u5931\\u63a7\\u7684\\u5927\\u6e05\\u8d22\\u653f\\uff081\\uff09.mp3',\n",
       " u'047\\u8d44\\u672c\\u76f2\\u6d41\\uff1a\\u4e0a\\u6d77\\u5730\\u4ea7\\u9996\\u6b21\\u5927\\u5d29\\u76d8\\uff085\\uff09\\u3010\\u5b8c\\u3011.mp3',\n",
       " u'028\\u5f39\\u6027\\u53cd\\u8150\\uff1a\\u4e00\\u4f4d\\u8d22\\u52a1\\u201c\\u526f\\u7701\\u957f\\u201d\\u7684\\u6b7b\\u5211\\uff085\\uff09\\u3010\\u5b8c\\u3011.mp3',\n",
       " u'024\\u5f39\\u6027\\u53cd\\u8150\\uff1a\\u4e00\\u4f4d\\u8d22\\u52a1\\u201c\\u526f\\u7701\\u957f\\u201d\\u7684\\u6b7b\\u5211\\uff081\\uff09.mp3',\n",
       " u'009\\u5f00\\u56fd63\\u5e74\\uff1a\\u5927\\u5386\\u53f2\\u7684\\u5207\\u7247\\uff0808\\uff09.mp3',\n",
       " u'077\\u4e01\\u672a\\u653f\\u6f6e\\uff1a\\u65e0\\u5904\\u4e0d\\u5728\\u7684\\u6743\\u4e89\\uff083\\uff09.mp3',\n",
       " u'056\\u5f20\\u4e4b\\u6d1e\\uff1a\\u8d70\\u5411\\u519b\\u673a\\u7684\\u60c6\\u6005\\uff081\\uff09.mp3',\n",
       " u'061\\u521a\\u6bc5\\u6574\\u987f\\uff1a\\u5931\\u63a7\\u7684\\u5927\\u6e05\\u8d22\\u653f\\uff082\\uff09.mp3',\n",
       " u'070\\u5e9a\\u5b50\\u5e74\\u5371\\u673a\\uff1a\\u7089\\u706b\\u4e0a\\u7684\\u7fa4\\u96c4\\u535a\\u5f08\\uff085\\uff09\\u3010\\u5b8c\\u3011.mp3',\n",
       " u'019\\u519b\\u673a\\u5904\\uff1a\\u6e05\\u4ee3\\u201c\\u56fd\\u5b89\\u59d4\\u201d\\u7684\\u5236\\u5ea6\\u521b\\u65b0\\uff081\\uff09.mp3',\n",
       " u'088\\u6295\\u673a\\u98ce\\u66b4\\uff1a\\u673a\\u4f1a\\u4e3b\\u4e49\\u5927\\u9769\\u547d\\uff081\\uff09.mp3',\n",
       " u'049\\u5e1d\\u56fd\\u51fa\\u8f68\\uff1a\\u94c1\\u8def\\u603b\\u516c\\u53f8\\u4e4b\\u8def\\uff082\\uff09.mp3',\n",
       " u'005\\u5f00\\u56fd63\\u5e74\\uff1a\\u5927\\u5386\\u53f2\\u7684\\u5207\\u7247\\uff0804\\uff09.mp3',\n",
       " u'067\\u5e9a\\u5b50\\u5e74\\u5371\\u673a\\uff1a\\u7089\\u706b\\u4e0a\\u7684\\u7fa4\\u96c4\\u535a\\u5f08\\uff082\\uff09.mp3',\n",
       " u'087\\u6d41\\u4ea1\\u751f\\u610f\\uff1a\\u5eb7\\u6709\\u4e3a\\u7684\\u515a\\u4ea7\\uff083\\uff09\\u3010\\u5b8c\\u3011.mp3',\n",
       " u'008\\u5f00\\u56fd63\\u5e74\\uff1a\\u5927\\u5386\\u53f2\\u7684\\u5207\\u7247\\uff0807\\uff09.mp3',\n",
       " u'075\\u4e01\\u672a\\u653f\\u6f6e\\uff1a\\u65e0\\u5904\\u4e0d\\u5728\\u7684\\u6743\\u4e89\\uff081\\uff09.mp3',\n",
       " u'034\\u5723\\u8c15\\u5ba3\\u8bb2\\uff1a\\u5927\\u6e05\\u7684\\u201c\\u7cbe\\u795e\\u6587\\u660e\\u5efa\\u8bbe\\u201d\\uff081\\uff09.mp3',\n",
       " u'095\\u6539\\u9769\\u90fd\\u6709\\u7ea2\\u5229\\u5417\\uff1a\\u540e\\u8bb0\\uff081\\uff09.mp3',\n",
       " u'053\\u620a\\u620c\\u53d8\\u6cd5\\uff1a\\u8870\\u8001\\u5e1d\\u56fd\\u7684\\u6fc0\\u60c5\\u4e00\\u8df3\\uff082\\uff09.mp3',\n",
       " u'071\\u8d27\\u5e01\\u4e4b\\u4e71\\uff1a\\u94f8\\u5e01\\u673a\\u4e0a\\u7684\\u5baa\\u653f\\uff081\\uff09.mp3',\n",
       " u'079\\u4e01\\u672a\\u653f\\u6f6e\\uff1a\\u65e0\\u5904\\u4e0d\\u5728\\u7684\\u6743\\u4e89\\uff085\\uff09.mp3',\n",
       " u'058\\u5f20\\u4e4b\\u6d1e\\uff1a\\u8d70\\u5411\\u519b\\u673a\\u7684\\u60c6\\u6005\\uff083\\uff09.mp3',\n",
       " u'081\\u6c11\\u53d8\\u4e4b\\u53d8\\uff1a\\u8c01\\u6765\\u505a\\u6700\\u540e\\u7684\\u57cb\\u5355\\u4eba\\uff081\\uff09.mp3',\n",
       " u'030\\u884c\\u8d3f\\u57fa\\u91d1\\uff1a\\u8d2a\\u8150\\u8d70\\u5411\\u8d44\\u672c\\u5316\\uff082\\uff09.mp3',\n",
       " u'065\\u521a\\u6bc5\\u6574\\u987f\\uff1a\\u5931\\u63a7\\u7684\\u5927\\u6e05\\u8d22\\u653f\\uff086\\uff09\\u3010\\u5b8c\\u3011.mp3',\n",
       " u'073\\u8d27\\u5e01\\u4e4b\\u4e71\\uff1a\\u94f8\\u5e01\\u673a\\u4e0a\\u7684\\u5baa\\u653f\\uff083\\uff09.mp3',\n",
       " u'007\\u5f00\\u56fd63\\u5e74\\uff1a\\u5927\\u5386\\u53f2\\u7684\\u5207\\u7247\\uff0806\\uff09.mp3']"
      ]
     },
     "execution_count": 2,
     "metadata": {},
     "output_type": "execute_result"
    }
   ],
   "source": [
    "'''\n",
    "    action:  pick 1 to indexFilename, 2 to undo\n",
    "'''\n",
    "action = 1  # 0 is no action, 1 to \"indexFilename\" or 2 to \"revertIndexFilename\"\n",
    "\n",
    "if action == 1 : #\"indexFilename\"\n",
    "    for i in range(len(sortedByCreate)):\n",
    "        num = \"{:0>3d}\".format(i+1)\n",
    "        newFilename = num + fn[sortedByCreate[i][0]]\n",
    "        os.rename(fn[sortedByCreate[i][0]], newFilename)\n",
    "elif action == 2: # \"revertIndexFilename\"\n",
    "    for i in range(len(fn)):\n",
    "        newFilename = fn[i][3:]\n",
    "        fileIndex = fn[i][:3]\n",
    "        #print(newFilename)\n",
    "        #print(fileIndex)\n",
    "        if (isInt(fileIndex)):\n",
    "            os.rename(fn[i], newFilename)\n",
    "os.listdir(path.decode('utf8'))\n"
   ]
  },
  {
   "cell_type": "code",
   "execution_count": null,
   "metadata": {
    "collapsed": true
   },
   "outputs": [],
   "source": []
  }
 ],
 "metadata": {
  "kernelspec": {
   "display_name": "Python [Root]",
   "language": "python",
   "name": "Python [Root]"
  },
  "language_info": {
   "codemirror_mode": {
    "name": "ipython",
    "version": 2
   },
   "file_extension": ".py",
   "mimetype": "text/x-python",
   "name": "python",
   "nbconvert_exporter": "python",
   "pygments_lexer": "ipython2",
   "version": "2.7.12"
  }
 },
 "nbformat": 4,
 "nbformat_minor": 0
}
